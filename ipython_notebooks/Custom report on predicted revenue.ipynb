{
  "metadata": {
    "kernelspec": {
      "name": "python3",
      "display_name": "Python 3 (ipykernel)",
      "language": "python"
    },
    "language_info": {
      "name": "python",
      "version": "3.9.20",
      "mimetype": "text/x-python",
      "codemirror_mode": {
        "name": "ipython",
        "version": 3
      },
      "pygments_lexer": "ipython3",
      "nbconvert_exporter": "python",
      "file_extension": ".py"
    },
    "hide_input": false,
    "dkuGit": {
      "lastInteraction": 1739958649170,
      "gitReference": {
        "remote": "https://github.com/qcastel/dataiku-test-git-2.git",
        "checkout": "mastere",
        "remotePath": "ipython_notebooks/Custom report on predicted revenue.ipynb",
        "remoteLogin": "qcastel",
        "remotePassword": "e:AES:X2:dYPyr3ywGFeQNz1zgQewsqR24Z57E+PJtIYLvrzqqs3MQRs4TK3ionUcD9xPjR80BNoD9b0sZin8A16Bbm9XBkBiV6pXfXALwqKd6dovEZ9SPeCJCemlEQ\u003d\u003d",
        "lastHash": "7255b0970b0ab35fbcacd1e6523d05de7f247ad9",
        "lastTimestamp": 1731591775000,
        "isDirty": false
      }
    },
    "createdOn": 1739958649159,
    "customFields": {},
    "tags": [],
    "modifiedBy": "admin",
    "creator": "admin"
  },
  "nbformat": 4,
  "nbformat_minor": 1,
  "cells": [
    {
      "execution_count": 0,
      "cell_type": "code",
      "metadata": {},
      "source": [
        "import dataiku\nfrom dataiku import pandasutils as pdu\nimport pandas as pd\nimport sys\nfrom IPython.core.display import HTML\nfrom math import floor"
      ],
      "outputs": []
    },
    {
      "execution_count": 0,
      "cell_type": "code",
      "metadata": {},
      "source": [
        "## Example: load a DDS dataset as a Pandas data frame\nmydataset \u003d dataiku.Dataset(\"revenue_prediction\")\nmydataset_df \u003d mydataset.get_dataframe()"
      ],
      "outputs": []
    },
    {
      "execution_count": 0,
      "cell_type": "code",
      "metadata": {},
      "source": [
        "us_customers \u003d mydataset_df[mydataset_df.ip_country \u003d\u003d \u0027United States\u0027]"
      ],
      "outputs": []
    },
    {
      "execution_count": 0,
      "cell_type": "code",
      "metadata": {},
      "source": [
        "HTML(\"\u003cul\u003e\"\n    + \"\u003cli\u003e Average revenue expected per american customer : $ %d\u003c/li\u003e\" % floor(us_customers.prediction.mean())\n    + \"\u003cli\u003eTotal revenue expected in the U.S. : $ %d\u003c/li\u003e\" % floor(us_customers.prediction.sum())\n    + \"\u003c/ul\u003e\"\n    )"
      ],
      "outputs": []
    },
    {
      "execution_count": 0,
      "cell_type": "code",
      "metadata": {
        "collapsed": true
      },
      "source": [
        ""
      ],
      "outputs": []
    }
  ]
}